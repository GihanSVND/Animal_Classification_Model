{
 "cells": [
  {
   "cell_type": "code",
   "execution_count": 1,
   "id": "e7286c7f",
   "metadata": {},
   "outputs": [],
   "source": [
    "import cv2\n",
    "import numpy as np\n",
    "import tensorflow as tf\n",
    "import matplotlib.pyplot as plt\n",
    "import os\n",
    "from tensorflow import keras"
   ]
  },
  {
   "cell_type": "code",
   "execution_count": 2,
   "id": "345e7327",
   "metadata": {},
   "outputs": [],
   "source": [
    "model = keras.models.load_model('model.keras')"
   ]
  },
  {
   "cell_type": "code",
   "execution_count": 3,
   "id": "8bd26b81",
   "metadata": {},
   "outputs": [
    {
     "name": "stdout",
     "output_type": "stream",
     "text": [
      "['elephant', 'none', 'peacock', 'wildboar']\n"
     ]
    }
   ],
   "source": [
    "class_names = sorted(os.listdir(\"Dataset/train\"))\n",
    "print(class_names)"
   ]
  },
  {
   "cell_type": "code",
   "execution_count": null,
   "id": "a486a7dc",
   "metadata": {},
   "outputs": [],
   "source": [
    "image = cv2.imread(\"/Users/gihansavinda/Downloads/047-1.jpg\")\n",
    "plt.imshow(image)\n",
    "plt.show()"
   ]
  },
  {
   "cell_type": "code",
   "execution_count": null,
   "id": "71ebbf5d",
   "metadata": {},
   "outputs": [],
   "source": [
    "IMAGE_SIZE = (128,128)\n",
    "resized_image = tf.image.resize(image,IMAGE_SIZE)\n",
    "scaled_image = resized_image/255"
   ]
  },
  {
   "cell_type": "code",
   "execution_count": null,
   "id": "09ba19c6",
   "metadata": {},
   "outputs": [],
   "source": [
    "predictions = model.predict(np.expand_dims(scaled_image, axis=0))\n",
    "print(predictions)"
   ]
  },
  {
   "cell_type": "code",
   "execution_count": null,
   "id": "4c2ebfff",
   "metadata": {},
   "outputs": [],
   "source": [
    "predicted_class_index = np.argmax(predictions)\n",
    "print(predicted_class_index)"
   ]
  },
  {
   "cell_type": "code",
   "execution_count": null,
   "id": "4ce0b65b",
   "metadata": {},
   "outputs": [],
   "source": [
    "detected_animal = class_names[predicted_class_index]\n",
    "print(\"Detected animal:\", detected_animal)"
   ]
  },
  {
   "cell_type": "code",
   "execution_count": null,
   "id": "2c23904e",
   "metadata": {},
   "outputs": [],
   "source": []
  }
 ],
 "metadata": {
  "kernelspec": {
   "display_name": "Python 3 (ipykernel)",
   "language": "python",
   "name": "python3"
  },
  "language_info": {
   "codemirror_mode": {
    "name": "ipython",
    "version": 3
   },
   "file_extension": ".py",
   "mimetype": "text/x-python",
   "name": "python",
   "nbconvert_exporter": "python",
   "pygments_lexer": "ipython3",
   "version": "3.11.5"
  }
 },
 "nbformat": 4,
 "nbformat_minor": 5
}
