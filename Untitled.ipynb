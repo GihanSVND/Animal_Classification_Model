{
 "cells": [
  {
   "cell_type": "code",
   "execution_count": 1,
   "id": "1b7867ed-078f-469e-81ac-06a7e4c6cfb5",
   "metadata": {},
   "outputs": [
    {
     "name": "stdout",
     "output_type": "stream",
     "text": [
      "\u001b[1m1/1\u001b[0m \u001b[32m━━━━━━━━━━━━━━━━━━━━\u001b[0m\u001b[37m\u001b[0m \u001b[1m0s\u001b[0m 398ms/step\n",
      "elephant\n",
      "OpenCV version: 4.9.0\n"
     ]
    }
   ],
   "source": [
    "import cv2\n",
    "import numpy as np\n",
    "import tensorflow as tf\n",
    "import matplotlib.pyplot as plt\n",
    "from tensorflow import keras\n",
    "\n",
    "\n",
    "def detection(mod_add,img_add):\n",
    "    class_names = ['elephant', 'none', 'peacock', 'wildboar']\n",
    "    model = keras.models.load_model(mod_add)\n",
    "    image = cv2.imread(img_add)\n",
    "    IMAGE_SIZE = (128,128)\n",
    "    resized_image = tf.image.resize(image,IMAGE_SIZE)\n",
    "    scaled_image = resized_image/255\n",
    "\n",
    "    predictions = model.predict(np.expand_dims(scaled_image, axis=0))\n",
    "\n",
    "    predicted_class_index = np.argmax(predictions)\n",
    "\n",
    "    detected_animal = class_names[predicted_class_index]\n",
    "    return detected_animal\n",
    "\n",
    "\n",
    "animal = detection(\"/Users/gihansavinda/Desktop/Projects/Machine_Leraning/Animal_identify/model.keras\", \"/Users/gihansavinda/Desktop/AboutElephant-Savanna.jpg\")\n",
    "print(animal)\n"
   ]
  },
  {
   "cell_type": "code",
   "execution_count": null,
   "id": "521ccb64-ac91-49c3-bf20-ae77ac7a01af",
   "metadata": {},
   "outputs": [],
   "source": []
  }
 ],
 "metadata": {
  "kernelspec": {
   "display_name": "Python 3 (ipykernel)",
   "language": "python",
   "name": "python3"
  },
  "language_info": {
   "codemirror_mode": {
    "name": "ipython",
    "version": 3
   },
   "file_extension": ".py",
   "mimetype": "text/x-python",
   "name": "python",
   "nbconvert_exporter": "python",
   "pygments_lexer": "ipython3",
   "version": "3.11.7"
  }
 },
 "nbformat": 4,
 "nbformat_minor": 5
}
